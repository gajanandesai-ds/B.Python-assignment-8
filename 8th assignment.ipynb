{
 "cells": [
  {
   "cell_type": "raw",
   "id": "4b0091b1",
   "metadata": {},
   "source": [
    "1. Is the Python Standard Library included with PyInputPlus?"
   ]
  },
  {
   "cell_type": "raw",
   "id": "934b8f0a",
   "metadata": {},
   "source": [
    "ans: pyinputPlus is not a part of the python Standard Library, we must install it sepearately using pip.(!pip install pyinputpluse)"
   ]
  },
  {
   "cell_type": "code",
   "execution_count": null,
   "id": "cd4a5544",
   "metadata": {},
   "outputs": [],
   "source": []
  },
  {
   "cell_type": "raw",
   "id": "ea1c5367",
   "metadata": {},
   "source": [
    "2. Why is PyInputPlus commonly imported with import pyinputplus as pypi?"
   ]
  },
  {
   "cell_type": "raw",
   "id": "714caad8",
   "metadata": {},
   "source": [
    "ans: you can import the module with import pyinputplus as pyip so that you can enter a shorter name when calling the mosule's function.(pypi is alias of PyinputPlus.)"
   ]
  },
  {
   "cell_type": "code",
   "execution_count": null,
   "id": "813d4962",
   "metadata": {},
   "outputs": [],
   "source": []
  },
  {
   "cell_type": "raw",
   "id": "d2f2ad49",
   "metadata": {},
   "source": [
    "3. How do you distinguish between inputInt() and inputFloat()?"
   ]
  },
  {
   "cell_type": "raw",
   "id": "51c4e0d0",
   "metadata": {},
   "source": [
    "ans: The differnce is in the data type when you use the first one the program expect an integer value as input but in the latter it expects a float value i.e number containing a decimal.\n",
    "inputint(): Accepts an integer value,and returns int value\n",
    "inputFloat():Accepts integer/Floating point value and return float value"
   ]
  },
  {
   "cell_type": "code",
   "execution_count": null,
   "id": "a7dae322",
   "metadata": {},
   "outputs": [],
   "source": []
  },
  {
   "cell_type": "raw",
   "id": "6d2acdfe",
   "metadata": {},
   "source": [
    "4. Using PyInputPlus, how do you ensure that the user enters a whole number between 0 and 99?"
   ]
  },
  {
   "cell_type": "raw",
   "id": "dfb152a9",
   "metadata": {},
   "source": [
    "ans: By using pypi. inputint(min=0, max=99)"
   ]
  },
  {
   "cell_type": "raw",
   "id": "0c8be902",
   "metadata": {},
   "source": []
  },
  {
   "cell_type": "raw",
   "id": "dbe4eebf",
   "metadata": {},
   "source": [
    "5. What is transferred to the keyword arguments allowRegexes and blockRegexes?"
   ]
  },
  {
   "cell_type": "raw",
   "id": "3f7f7fcd",
   "metadata": {},
   "source": [
    "ans:A list of regex string that are either explicitly allowed or denied.(we can also use regular expressions to specify whether an input is allowed or not. The allowd Rgexes and block Regexes)"
   ]
  },
  {
   "cell_type": "code",
   "execution_count": null,
   "id": "42a656a4",
   "metadata": {},
   "outputs": [],
   "source": []
  },
  {
   "cell_type": "raw",
   "id": "e883886e",
   "metadata": {},
   "source": [
    "6. If a blank input is entered three times, what does inputStr(limit=3) do?"
   ]
  },
  {
   "cell_type": "raw",
   "id": "76ecb4a4",
   "metadata": {},
   "source": [
    "ans: The function will raise Retry Limit Exception."
   ]
  },
  {
   "cell_type": "code",
   "execution_count": null,
   "id": "81d72e43",
   "metadata": {},
   "outputs": [],
   "source": []
  },
  {
   "cell_type": "raw",
   "id": "54f26819",
   "metadata": {},
   "source": [
    "7. If blank input is entered three times, what does inputStr(limit=3, default='hello') do?"
   ]
  },
  {
   "cell_type": "raw",
   "id": "1be13880",
   "metadata": {},
   "source": [
    "ans: The function returns the value 'hello'. when you use limit keyword arguments and also pass a default keyword argument, the function returns the default value instead of raising an exception."
   ]
  },
  {
   "cell_type": "code",
   "execution_count": null,
   "id": "37dd7230",
   "metadata": {},
   "outputs": [],
   "source": []
  }
 ],
 "metadata": {
  "kernelspec": {
   "display_name": "Python 3",
   "language": "python",
   "name": "python3"
  },
  "language_info": {
   "codemirror_mode": {
    "name": "ipython",
    "version": 3
   },
   "file_extension": ".py",
   "mimetype": "text/x-python",
   "name": "python",
   "nbconvert_exporter": "python",
   "pygments_lexer": "ipython3",
   "version": "3.8.8"
  }
 },
 "nbformat": 4,
 "nbformat_minor": 5
}
